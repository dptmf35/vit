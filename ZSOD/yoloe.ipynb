{
 "cells": [
  {
   "cell_type": "code",
   "execution_count": 1,
   "metadata": {},
   "outputs": [
    {
     "data": {
      "text/plain": [
       "[]"
      ]
     },
     "execution_count": 1,
     "metadata": {},
     "output_type": "execute_result"
    }
   ],
   "source": [
    "!wget -q https://docs-assets.developer.apple.com/ml-research/datasets/mobileclip/mobileclip_blt.pt"
   ]
  },
  {
   "cell_type": "code",
   "execution_count": 2,
   "metadata": {},
   "outputs": [
    {
     "data": {
      "application/vnd.jupyter.widget-view+json": {
       "model_id": "86a4a1984bc6401b8ceee7b9833f8092",
       "version_major": 2,
       "version_minor": 0
      },
      "text/plain": [
       "yoloe-v8l-seg.pt:   0%|          | 0.00/107M [00:00<?, ?B/s]"
      ]
     },
     "metadata": {},
     "output_type": "display_data"
    },
    {
     "data": {
      "application/vnd.jupyter.widget-view+json": {
       "model_id": "1410867fd9c6440ca8c932f8e21393e0",
       "version_major": 2,
       "version_minor": 0
      },
      "text/plain": [
       "yoloe-v8l-seg-pf.pt:   0%|          | 0.00/103M [00:00<?, ?B/s]"
      ]
     },
     "metadata": {},
     "output_type": "display_data"
    }
   ],
   "source": [
    "from huggingface_hub import hf_hub_download\n",
    "\n",
    "path = hf_hub_download(repo_id=\"jameslahm/yoloe\", filename=\"yoloe-v8l-seg.pt\", local_dir='.')\n",
    "path = hf_hub_download(repo_id=\"jameslahm/yoloe\", filename=\"yoloe-v8l-seg-pf.pt\", local_dir='.')"
   ]
  },
  {
   "cell_type": "code",
   "execution_count": 6,
   "metadata": {},
   "outputs": [],
   "source": [
    "# !pip install ultralytics\n",
    "\n",
    "SOURCE_IMAGE_PATH = \"sample.png\"\n",
    "TARGET_IMAGE_PATH = \"sample2.png\""
   ]
  },
  {
   "cell_type": "code",
   "execution_count": null,
   "metadata": {},
   "outputs": [],
   "source": []
  },
  {
   "cell_type": "code",
   "execution_count": 7,
   "metadata": {},
   "outputs": [
    {
     "name": "stdout",
     "output_type": "stream",
     "text": [
      "WARNING ⚠️ Ultralytics settings reset to default values. This may be due to a possible problem with your settings or a recent ultralytics package update. \n",
      "View Ultralytics Settings with 'yolo settings' or at '/home/yeseul/.config/Ultralytics/settings.json'\n",
      "Update Settings with 'yolo settings key=value', i.e. 'yolo settings runs_dir=path/to/dir'. For help see https://docs.ultralytics.com/quickstart/#ultralytics-settings.\n"
     ]
    },
    {
     "ename": "NameError",
     "evalue": "name 'bboxes' is not defined",
     "output_type": "error",
     "traceback": [
      "\u001b[0;31m---------------------------------------------------------------------------\u001b[0m",
      "\u001b[0;31mNameError\u001b[0m                                 Traceback (most recent call last)",
      "Cell \u001b[0;32mIn[7], line 5\u001b[0m\n\u001b[1;32m      2\u001b[0m \u001b[38;5;28;01mfrom\u001b[39;00m\u001b[38;5;250m \u001b[39m\u001b[38;5;21;01multralytics\u001b[39;00m\u001b[38;5;21;01m.\u001b[39;00m\u001b[38;5;21;01mmodels\u001b[39;00m\u001b[38;5;21;01m.\u001b[39;00m\u001b[38;5;21;01myolo\u001b[39;00m\u001b[38;5;21;01m.\u001b[39;00m\u001b[38;5;21;01myoloe\u001b[39;00m\u001b[38;5;21;01m.\u001b[39;00m\u001b[38;5;21;01mpredict_vp\u001b[39;00m\u001b[38;5;250m \u001b[39m\u001b[38;5;28;01mimport\u001b[39;00m YOLOEVPSegPredictor\n\u001b[1;32m      4\u001b[0m model \u001b[38;5;241m=\u001b[39m YOLOE(\u001b[38;5;124m\"\u001b[39m\u001b[38;5;124myoloe-v8l-seg.pt\u001b[39m\u001b[38;5;124m\"\u001b[39m)\u001b[38;5;241m.\u001b[39mcuda()\n\u001b[0;32m----> 5\u001b[0m prompts \u001b[38;5;241m=\u001b[39m \u001b[38;5;28mdict\u001b[39m(bboxes\u001b[38;5;241m=\u001b[39m\u001b[43mbboxes\u001b[49m, \u001b[38;5;28mcls\u001b[39m\u001b[38;5;241m=\u001b[39m\u001b[38;5;28mcls\u001b[39m)\n\u001b[1;32m      7\u001b[0m source_image \u001b[38;5;241m=\u001b[39m Image\u001b[38;5;241m.\u001b[39mopen(SOURCE_IMAGE_PATH)\n\u001b[1;32m      8\u001b[0m target_image \u001b[38;5;241m=\u001b[39m Image\u001b[38;5;241m.\u001b[39mopen(TARGET_IMAGE_PATH)\n",
      "\u001b[0;31mNameError\u001b[0m: name 'bboxes' is not defined"
     ]
    }
   ],
   "source": [
    "from ultralytics import YOLOE\n",
    "from ultralytics.models.yolo.yoloe.predict_vp import YOLOEVPSegPredictor\n",
    "\n",
    "model = YOLOE(\"yoloe-v8l-seg.pt\").cuda()\n",
    "prompts = dict(bboxes=bboxes, cls=cls)\n",
    "\n",
    "source_image = Image.open(SOURCE_IMAGE_PATH)\n",
    "target_image = Image.open(TARGET_IMAGE_PATH)\n",
    "\n",
    "model.predict(source_image, prompts=prompts, predictor=YOLOEVPSegPredictor, return_vpe=True)\n",
    "model.set_classes(NAMES, model.predictor.vpe)\n",
    "model.predictor = None\n",
    "\n",
    "results = model.predict(target_image)\n",
    "detections = sv.Detections.from_ultralytics(results[0])\n",
    "\n",
    "annotated_image = target_image.copy()\n",
    "annotated_image = sv.BoxAnnotator().annotate(scene=annotated_image, detections=detections)\n",
    "annotated_image = sv.LabelAnnotator().annotate(scene=annotated_image, detections=detections)\n",
    "\n",
    "annotated_image"
   ]
  },
  {
   "cell_type": "code",
   "execution_count": null,
   "metadata": {},
   "outputs": [],
   "source": []
  }
 ],
 "metadata": {
  "kernelspec": {
   "display_name": "qwen",
   "language": "python",
   "name": "python3"
  },
  "language_info": {
   "codemirror_mode": {
    "name": "ipython",
    "version": 3
   },
   "file_extension": ".py",
   "mimetype": "text/x-python",
   "name": "python",
   "nbconvert_exporter": "python",
   "pygments_lexer": "ipython3",
   "version": "3.10.12"
  }
 },
 "nbformat": 4,
 "nbformat_minor": 2
}
